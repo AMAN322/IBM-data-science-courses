{
 "cells": [
  {
   "cell_type": "markdown",
   "id": "abecb724-8f2a-440a-8273-e4bc6ab0472f",
   "metadata": {},
   "source": [
    "<h1> My Jupyter Notebook on IBM Watson Studio </h1>"
   ]
  },
  {
   "cell_type": "markdown",
   "id": "ae0b6896-a1e7-47b9-a833-27bed34537f8",
   "metadata": {},
   "source": [
    "<strong>Aman Boobna</strong> <br>\n",
    "Data Scientist"
   ]
  },
  {
   "cell_type": "markdown",
   "id": "338a0921-9228-4efd-89e3-115262f993cf",
   "metadata": {},
   "source": [
    "<em>I am interested in data science because the field of data fascinates me. Everything in this world revolves around data.</em>"
   ]
  },
  {
   "cell_type": "markdown",
   "id": "4d3270eb-95c2-4b25-bb9d-8f1c64ef11d4",
   "metadata": {},
   "source": [
    "<h3> Its supposed to add 1 and 2 </h3>"
   ]
  },
  {
   "cell_type": "code",
   "execution_count": 1,
   "id": "b1f7bac8-a470-4502-87df-b03927fe46c0",
   "metadata": {},
   "outputs": [
    {
     "name": "stdout",
     "output_type": "stream",
     "text": [
      "3\n"
     ]
    }
   ],
   "source": [
    "print(1+2)"
   ]
  },
  {
   "cell_type": "markdown",
   "id": "99675554-e11c-43d6-8360-c04b767bf207",
   "metadata": {},
   "source": [
    "<ul>\n",
    "    <li> <a href=\"www.google.com\"> google </a> </li>\n",
    "    <hr>\n",
    "    <li> Yahoo </li>\n",
    "</ul>    "
   ]
  },
  {
   "cell_type": "code",
   "execution_count": null,
   "id": "b9b82a19-329b-4dae-b753-dae42a5776e8",
   "metadata": {},
   "outputs": [],
   "source": []
  }
 ],
 "metadata": {
  "kernelspec": {
   "display_name": "Python",
   "language": "python",
   "name": "conda-env-python-py"
  },
  "language_info": {
   "codemirror_mode": {
    "name": "ipython",
    "version": 3
   },
   "file_extension": ".py",
   "mimetype": "text/x-python",
   "name": "python",
   "nbconvert_exporter": "python",
   "pygments_lexer": "ipython3",
   "version": "3.7.12"
  }
 },
 "nbformat": 4,
 "nbformat_minor": 5
}
